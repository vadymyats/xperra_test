{
 "cells": [
  {
   "cell_type": "code",
   "execution_count": 1,
   "id": "66c1e9bb-a7e6-4e0c-91b9-7b1487c26ede",
   "metadata": {
    "tags": []
   },
   "outputs": [
    {
     "name": "stderr",
     "output_type": "stream",
     "text": [
      "C:\\Users\\Admin\\AppData\\Local\\Temp\\ipykernel_10136\\3512115176.py:8: MatplotlibDeprecationWarning: The seaborn styles shipped by Matplotlib are deprecated since 3.6, as they no longer correspond to the styles shipped by seaborn. However, they will remain available as 'seaborn-v0_8-<style>'. Alternatively, directly use the seaborn API instead.\n",
      "  plt.style.use('seaborn')\n"
     ]
    }
   ],
   "source": [
    "import pandas as pd\n",
    "import numpy as np\n",
    "\n",
    "import matplotlib.pyplot as plt\n",
    "import plotly.express as px \n",
    "import seaborn as sns\n",
    "\n",
    "plt.style.use('seaborn')\n",
    "\n",
    "from statsmodels.stats.proportion import proportions_ztest\n",
    "from scipy.stats import norm\n",
    "\n",
    "from scipy.stats import ttest_ind"
   ]
  },
  {
   "cell_type": "code",
   "execution_count": 2,
   "id": "9bc8097d-f8b7-4432-bdc4-4ad1bf8d7f8b",
   "metadata": {
    "tags": []
   },
   "outputs": [
    {
     "data": {
      "text/html": [
       "<div>\n",
       "<style scoped>\n",
       "    .dataframe tbody tr th:only-of-type {\n",
       "        vertical-align: middle;\n",
       "    }\n",
       "\n",
       "    .dataframe tbody tr th {\n",
       "        vertical-align: top;\n",
       "    }\n",
       "\n",
       "    .dataframe thead th {\n",
       "        text-align: right;\n",
       "    }\n",
       "</style>\n",
       "<table border=\"1\" class=\"dataframe\">\n",
       "  <thead>\n",
       "    <tr style=\"text-align: right;\">\n",
       "      <th></th>\n",
       "      <th>Id</th>\n",
       "      <th>Ad headline</th>\n",
       "      <th>Ad Call to action</th>\n",
       "      <th>Date</th>\n",
       "      <th>Conversions</th>\n",
       "      <th>Clicks</th>\n",
       "      <th>Cost</th>\n",
       "      <th>Impressions</th>\n",
       "    </tr>\n",
       "  </thead>\n",
       "  <tbody>\n",
       "    <tr>\n",
       "      <th>0</th>\n",
       "      <td>1</td>\n",
       "      <td>Three best options for business expansion</td>\n",
       "      <td>Lean More</td>\n",
       "      <td>2021-09-01</td>\n",
       "      <td>19.114284</td>\n",
       "      <td>859</td>\n",
       "      <td>5062.970530</td>\n",
       "      <td>35295</td>\n",
       "    </tr>\n",
       "    <tr>\n",
       "      <th>1</th>\n",
       "      <td>2</td>\n",
       "      <td>Three best options for business expansion</td>\n",
       "      <td>Lean More</td>\n",
       "      <td>2021-10-01</td>\n",
       "      <td>22.000000</td>\n",
       "      <td>1707</td>\n",
       "      <td>10510.584357</td>\n",
       "      <td>64999</td>\n",
       "    </tr>\n",
       "    <tr>\n",
       "      <th>2</th>\n",
       "      <td>3</td>\n",
       "      <td>Three best options for business expansion</td>\n",
       "      <td>Lean More</td>\n",
       "      <td>2021-11-01</td>\n",
       "      <td>27.600000</td>\n",
       "      <td>1316</td>\n",
       "      <td>9045.799412</td>\n",
       "      <td>61909</td>\n",
       "    </tr>\n",
       "    <tr>\n",
       "      <th>3</th>\n",
       "      <td>4</td>\n",
       "      <td>Three best options for business expansion</td>\n",
       "      <td>Lean More</td>\n",
       "      <td>2021-12-01</td>\n",
       "      <td>18.000000</td>\n",
       "      <td>1060</td>\n",
       "      <td>6777.109898</td>\n",
       "      <td>73164</td>\n",
       "    </tr>\n",
       "    <tr>\n",
       "      <th>4</th>\n",
       "      <td>5</td>\n",
       "      <td>Three best options for business expansion</td>\n",
       "      <td>Lean More</td>\n",
       "      <td>2022-01-01</td>\n",
       "      <td>14.900000</td>\n",
       "      <td>855</td>\n",
       "      <td>7425.284524</td>\n",
       "      <td>59653</td>\n",
       "    </tr>\n",
       "  </tbody>\n",
       "</table>\n",
       "</div>"
      ],
      "text/plain": [
       "   Id                                Ad headline Ad Call to action       Date  \\\n",
       "0   1  Three best options for business expansion         Lean More 2021-09-01   \n",
       "1   2  Three best options for business expansion         Lean More 2021-10-01   \n",
       "2   3  Three best options for business expansion         Lean More 2021-11-01   \n",
       "3   4  Three best options for business expansion         Lean More 2021-12-01   \n",
       "4   5  Three best options for business expansion         Lean More 2022-01-01   \n",
       "\n",
       "   Conversions  Clicks          Cost  Impressions  \n",
       "0    19.114284     859   5062.970530        35295  \n",
       "1    22.000000    1707  10510.584357        64999  \n",
       "2    27.600000    1316   9045.799412        61909  \n",
       "3    18.000000    1060   6777.109898        73164  \n",
       "4    14.900000     855   7425.284524        59653  "
      ]
     },
     "execution_count": 2,
     "metadata": {},
     "output_type": "execute_result"
    }
   ],
   "source": [
    "df = pd.read_excel('data/Data Analyst - Test Tasks.xlsx', sheet_name=1)\n",
    "df.head()"
   ]
  },
  {
   "cell_type": "code",
   "execution_count": 3,
   "id": "e44bd1df-9010-4fbd-baa2-8be41060f15b",
   "metadata": {
    "tags": []
   },
   "outputs": [],
   "source": [
    "df['Date'] = pd.to_datetime(df['Date'], format = '%Y-%m-%d')"
   ]
  },
  {
   "cell_type": "code",
   "execution_count": 4,
   "id": "8bf32f0a-2b85-4091-a303-9e748108ba5c",
   "metadata": {
    "tags": []
   },
   "outputs": [],
   "source": [
    "df['conversion'] = (df['Conversions'] / df['Impressions']) * 100"
   ]
  },
  {
   "cell_type": "markdown",
   "id": "b3ba3bbc-f8b7-4b03-9067-ef4df60aa9b7",
   "metadata": {},
   "source": [
    "Let's look at the average and median of the target metric by advertising company"
   ]
  },
  {
   "cell_type": "code",
   "execution_count": 5,
   "id": "3d29a256-273a-4a54-864d-04abd86d9853",
   "metadata": {
    "tags": []
   },
   "outputs": [
    {
     "data": {
      "text/html": [
       "<div>\n",
       "<style scoped>\n",
       "    .dataframe tbody tr th:only-of-type {\n",
       "        vertical-align: middle;\n",
       "    }\n",
       "\n",
       "    .dataframe tbody tr th {\n",
       "        vertical-align: top;\n",
       "    }\n",
       "\n",
       "    .dataframe thead th {\n",
       "        text-align: right;\n",
       "    }\n",
       "</style>\n",
       "<table border=\"1\" class=\"dataframe\">\n",
       "  <thead>\n",
       "    <tr style=\"text-align: right;\">\n",
       "      <th></th>\n",
       "      <th>mean</th>\n",
       "      <th>median</th>\n",
       "    </tr>\n",
       "    <tr>\n",
       "      <th>Ad Call to action</th>\n",
       "      <th></th>\n",
       "      <th></th>\n",
       "    </tr>\n",
       "  </thead>\n",
       "  <tbody>\n",
       "    <tr>\n",
       "      <th>Book Now</th>\n",
       "      <td>0.119557</td>\n",
       "      <td>0.086258</td>\n",
       "    </tr>\n",
       "    <tr>\n",
       "      <th>Lean More</th>\n",
       "      <td>0.044174</td>\n",
       "      <td>0.046120</td>\n",
       "    </tr>\n",
       "  </tbody>\n",
       "</table>\n",
       "</div>"
      ],
      "text/plain": [
       "                       mean    median\n",
       "Ad Call to action                    \n",
       "Book Now           0.119557  0.086258\n",
       "Lean More          0.044174  0.046120"
      ]
     },
     "execution_count": 5,
     "metadata": {},
     "output_type": "execute_result"
    }
   ],
   "source": [
    "df.groupby('Ad Call to action')['conversion'].agg(['mean', 'median'])"
   ]
  },
  {
   "cell_type": "markdown",
   "id": "bf67df80-b5d2-4acf-be3a-7f45ef3261fb",
   "metadata": {},
   "source": [
    "The resulting table shows that the median and mean in each group differ. Moreover, the difference between the indicators in the groups is more than 50%! Let us make sure that the difference in indicators is significant and is not due to chance."
   ]
  },
  {
   "cell_type": "markdown",
   "id": "b93e8809-c416-432e-8a01-90de6c96d895",
   "metadata": {},
   "source": [
    "Before doing this, we'll use cumulative metrics to make sure that the conversion rate is stable over time."
   ]
  },
  {
   "cell_type": "code",
   "execution_count": 6,
   "id": "20b5cc3b-1d85-49a0-96e1-9623bf513102",
   "metadata": {
    "tags": []
   },
   "outputs": [
    {
     "data": {
      "text/html": [
       "<div>\n",
       "<style scoped>\n",
       "    .dataframe tbody tr th:only-of-type {\n",
       "        vertical-align: middle;\n",
       "    }\n",
       "\n",
       "    .dataframe tbody tr th {\n",
       "        vertical-align: top;\n",
       "    }\n",
       "\n",
       "    .dataframe thead th {\n",
       "        text-align: right;\n",
       "    }\n",
       "</style>\n",
       "<table border=\"1\" class=\"dataframe\">\n",
       "  <thead>\n",
       "    <tr style=\"text-align: right;\">\n",
       "      <th></th>\n",
       "      <th>Id</th>\n",
       "      <th>Ad headline</th>\n",
       "      <th>Ad Call to action</th>\n",
       "      <th>Date</th>\n",
       "      <th>Conversions</th>\n",
       "      <th>Clicks</th>\n",
       "      <th>Cost</th>\n",
       "      <th>Impressions</th>\n",
       "      <th>conversion</th>\n",
       "      <th>cum_converted</th>\n",
       "      <th>cum_users_count</th>\n",
       "      <th>cum_conversion</th>\n",
       "    </tr>\n",
       "  </thead>\n",
       "  <tbody>\n",
       "    <tr>\n",
       "      <th>0</th>\n",
       "      <td>1</td>\n",
       "      <td>Three best options for business expansion</td>\n",
       "      <td>Lean More</td>\n",
       "      <td>2021-09-01</td>\n",
       "      <td>19.114284</td>\n",
       "      <td>859</td>\n",
       "      <td>5062.970530</td>\n",
       "      <td>35295</td>\n",
       "      <td>0.054156</td>\n",
       "      <td>19.114284</td>\n",
       "      <td>35295</td>\n",
       "      <td>0.054156</td>\n",
       "    </tr>\n",
       "    <tr>\n",
       "      <th>1</th>\n",
       "      <td>2</td>\n",
       "      <td>Three best options for business expansion</td>\n",
       "      <td>Lean More</td>\n",
       "      <td>2021-10-01</td>\n",
       "      <td>22.000000</td>\n",
       "      <td>1707</td>\n",
       "      <td>10510.584357</td>\n",
       "      <td>64999</td>\n",
       "      <td>0.033847</td>\n",
       "      <td>41.114284</td>\n",
       "      <td>100294</td>\n",
       "      <td>0.040994</td>\n",
       "    </tr>\n",
       "    <tr>\n",
       "      <th>2</th>\n",
       "      <td>3</td>\n",
       "      <td>Three best options for business expansion</td>\n",
       "      <td>Lean More</td>\n",
       "      <td>2021-11-01</td>\n",
       "      <td>27.600000</td>\n",
       "      <td>1316</td>\n",
       "      <td>9045.799412</td>\n",
       "      <td>61909</td>\n",
       "      <td>0.044582</td>\n",
       "      <td>68.714284</td>\n",
       "      <td>162203</td>\n",
       "      <td>0.042363</td>\n",
       "    </tr>\n",
       "    <tr>\n",
       "      <th>3</th>\n",
       "      <td>4</td>\n",
       "      <td>Three best options for business expansion</td>\n",
       "      <td>Lean More</td>\n",
       "      <td>2021-12-01</td>\n",
       "      <td>18.000000</td>\n",
       "      <td>1060</td>\n",
       "      <td>6777.109898</td>\n",
       "      <td>73164</td>\n",
       "      <td>0.024602</td>\n",
       "      <td>86.714284</td>\n",
       "      <td>235367</td>\n",
       "      <td>0.036842</td>\n",
       "    </tr>\n",
       "    <tr>\n",
       "      <th>4</th>\n",
       "      <td>5</td>\n",
       "      <td>Three best options for business expansion</td>\n",
       "      <td>Lean More</td>\n",
       "      <td>2022-01-01</td>\n",
       "      <td>14.900000</td>\n",
       "      <td>855</td>\n",
       "      <td>7425.284524</td>\n",
       "      <td>59653</td>\n",
       "      <td>0.024978</td>\n",
       "      <td>101.614284</td>\n",
       "      <td>295020</td>\n",
       "      <td>0.034443</td>\n",
       "    </tr>\n",
       "  </tbody>\n",
       "</table>\n",
       "</div>"
      ],
      "text/plain": [
       "   Id                                Ad headline Ad Call to action       Date  \\\n",
       "0   1  Three best options for business expansion         Lean More 2021-09-01   \n",
       "1   2  Three best options for business expansion         Lean More 2021-10-01   \n",
       "2   3  Three best options for business expansion         Lean More 2021-11-01   \n",
       "3   4  Three best options for business expansion         Lean More 2021-12-01   \n",
       "4   5  Three best options for business expansion         Lean More 2022-01-01   \n",
       "\n",
       "   Conversions  Clicks          Cost  Impressions  conversion  cum_converted  \\\n",
       "0    19.114284     859   5062.970530        35295    0.054156      19.114284   \n",
       "1    22.000000    1707  10510.584357        64999    0.033847      41.114284   \n",
       "2    27.600000    1316   9045.799412        61909    0.044582      68.714284   \n",
       "3    18.000000    1060   6777.109898        73164    0.024602      86.714284   \n",
       "4    14.900000     855   7425.284524        59653    0.024978     101.614284   \n",
       "\n",
       "   cum_users_count  cum_conversion  \n",
       "0            35295        0.054156  \n",
       "1           100294        0.040994  \n",
       "2           162203        0.042363  \n",
       "3           235367        0.036842  \n",
       "4           295020        0.034443  "
      ]
     },
     "execution_count": 6,
     "metadata": {},
     "output_type": "execute_result"
    }
   ],
   "source": [
    "df['cum_converted'] = df.groupby('Ad Call to action')['Conversions'].cumsum()\n",
    "df['cum_users_count'] = df.groupby('Ad Call to action')['Impressions'].cumsum()\n",
    "df['cum_conversion'] = df['cum_converted'] / df['cum_users_count'] * 100\n",
    "\n",
    "df.head()"
   ]
  },
  {
   "cell_type": "code",
   "execution_count": 7,
   "id": "0ba46813-7924-4664-ad2c-3d86487b65f7",
   "metadata": {
    "tags": []
   },
   "outputs": [
    {
     "data": {
      "image/png": "[encoded data removed]",
      "text/plain": [
       "<Figure size 1500x700 with 1 Axes>"
      ]
     },
     "metadata": {},
     "output_type": "display_data"
    }
   ],
   "source": [
    "fig = plt.figure(figsize=(15,7))\n",
    "\n",
    "sns.lineplot(\n",
    "    data = df,\n",
    "    x = 'Date',\n",
    "    y = 'cum_conversion',\n",
    "    hue = 'Ad Call to action'\n",
    ");"
   ]
  },
  {
   "cell_type": "markdown",
   "id": "faac09c0-b015-4f5e-9b8f-6ba7ff9f4b70",
   "metadata": {},
   "source": [
    "We see that the conversion has stabilized, there are no jumps. Also on the graph we can see that the conversion of the Lean More group is consistently worse than the conversion of the Book Now group."
   ]
  },
  {
   "cell_type": "markdown",
   "id": "c4bc4acd-72d3-4f6d-b26a-84f51283e596",
   "metadata": {},
   "source": [
    "The data is stable, which means you can start implementing statistical tests."
   ]
  },
  {
   "cell_type": "code",
   "execution_count": 8,
   "id": "a73b7d78-541f-445d-8079-35cb91fadd1d",
   "metadata": {
    "tags": []
   },
   "outputs": [
    {
     "data": {
      "text/html": [
       "<div>\n",
       "<style scoped>\n",
       "    .dataframe tbody tr th:only-of-type {\n",
       "        vertical-align: middle;\n",
       "    }\n",
       "\n",
       "    .dataframe tbody tr th {\n",
       "        vertical-align: top;\n",
       "    }\n",
       "\n",
       "    .dataframe thead th {\n",
       "        text-align: right;\n",
       "    }\n",
       "</style>\n",
       "<table border=\"1\" class=\"dataframe\">\n",
       "  <thead>\n",
       "    <tr style=\"text-align: right;\">\n",
       "      <th></th>\n",
       "      <th>Impressions</th>\n",
       "      <th>Conversions</th>\n",
       "    </tr>\n",
       "    <tr>\n",
       "      <th>Ad Call to action</th>\n",
       "      <th></th>\n",
       "      <th></th>\n",
       "    </tr>\n",
       "  </thead>\n",
       "  <tbody>\n",
       "    <tr>\n",
       "      <th>Book Now</th>\n",
       "      <td>1217150</td>\n",
       "      <td>930.000000</td>\n",
       "    </tr>\n",
       "    <tr>\n",
       "      <th>Lean More</th>\n",
       "      <td>1244758</td>\n",
       "      <td>514.714284</td>\n",
       "    </tr>\n",
       "  </tbody>\n",
       "</table>\n",
       "</div>"
      ],
      "text/plain": [
       "                   Impressions  Conversions\n",
       "Ad Call to action                          \n",
       "Book Now               1217150   930.000000\n",
       "Lean More              1244758   514.714284"
      ]
     },
     "execution_count": 8,
     "metadata": {},
     "output_type": "execute_result"
    }
   ],
   "source": [
    "ab_data = df.groupby('Ad Call to action')[['Impressions', 'Conversions']].sum()\n",
    "\n",
    "ab_data"
   ]
  },
  {
   "cell_type": "markdown",
   "id": "3027407f-cb73-4e8b-b09a-122ca6f89f4a",
   "metadata": {},
   "source": [
    "As a null hypothesis, we denote that the Book Now conversion is a Lean More conversion <= 0. As an alternative hypothesis, we denote that the Book Now conversion is a Lean More conversion > 0"
   ]
  },
  {
   "cell_type": "code",
   "execution_count": 9,
   "id": "9235f823-cff7-4329-a893-e0895e2af151",
   "metadata": {
    "tags": []
   },
   "outputs": [
    {
     "name": "stdout",
     "output_type": "stream",
     "text": [
      "p-value = 3.4559840031141364e-30\n",
      "Rejecting the null hypothesis\n"
     ]
    }
   ],
   "source": [
    "alpha = 0.05\n",
    "\n",
    "_, p_value = proportions_ztest(\n",
    "    count = ab_data['Conversions'],\n",
    "    nobs = ab_data['Impressions'],\n",
    "    alternative = 'larger'\n",
    ")\n",
    "\n",
    "print(f'p-value = {p_value}')\n",
    "\n",
    "if p_value <= alpha:\n",
    "    print('Rejecting the null hypothesis')\n",
    "else:\n",
    "    print('We cannot reject the null hypothesis')\n",
    "    "
   ]
  },
  {
   "cell_type": "markdown",
   "id": "ab1b6544-bda3-4fe6-acdc-81a497c10424",
   "metadata": {},
   "source": [
    "Based on the test results, we reject the null hypothesis and accept the alternative, that the Book Now conversion is higher than the Lean More conversion"
   ]
  },
  {
   "cell_type": "markdown",
   "id": "a3cf6464-19c3-4489-bbe3-8f9fe99ba038",
   "metadata": {
    "tags": []
   },
   "source": [
    "Let's try to build a confidence interval"
   ]
  },
  {
   "cell_type": "code",
   "execution_count": 10,
   "id": "654832e2-44df-4bf5-9093-9ff9089e63f5",
   "metadata": {
    "tags": []
   },
   "outputs": [],
   "source": [
    "def diff_proportion_conf_interval(x_p, n, gamma=0.95):\n",
    "    alpha = 1 - gamma \n",
    "    diff = x_p[1] - x_p[0] \n",
    "    z_crit = -norm.ppf(alpha/2)\n",
    "    eps = z_crit * (x_p[0] * (1 - x_p[0])/n[0] + x_p[1] * (1 - x_p[1])/n[1]) ** 0.5\n",
    "    lower_bound = diff - eps \n",
    "    upper_bound = diff + eps\n",
    "    \n",
    "    return lower_bound, upper_bound"
   ]
  },
  {
   "cell_type": "code",
   "execution_count": 19,
   "id": "a0a2adcd-1951-49e2-b193-9bd9db090649",
   "metadata": {
    "tags": []
   },
   "outputs": [
    {
     "name": "stdout",
     "output_type": "stream",
     "text": [
      "Confidence interval for conversion difference: (-0.04, -0.03)\n"
     ]
    }
   ],
   "source": [
    "n = [ab_data.loc['Book Now', 'Impressions'], ab_data.loc['Lean More', 'Impressions']]\n",
    "x_p = [ab_data.loc['Book Now', 'Conversions'] / n[0], ab_data.loc['Lean More', 'Conversions'] / n[1]]\n",
    "\n",
    "lower_bound, upper_bound = diff_proportion_conf_interval(x_p=x_p, n=n)\n",
    "\n",
    "print('Confidence interval for conversion difference: {}'.format((round(lower_bound*100, 2), round(upper_bound*100, 2))))"
   ]
  },
  {
   "cell_type": "markdown",
   "id": "687ce710-bdb3-4664-9a94-7d529930cbb2",
   "metadata": {},
   "source": [
    "The true difference in conversion is negative. Book Now is better than Lean More in terms of conversion metrics with a reliability of 0.95."
   ]
  },
  {
   "cell_type": "markdown",
   "id": "4742f10c-8971-40f5-b156-1b012d10244e",
   "metadata": {},
   "source": [
    "Let's analyze the performance of two companies based on the ratio of the number of conversions to the number of clicks"
   ]
  },
  {
   "cell_type": "code",
   "execution_count": 11,
   "id": "bfa055fd-2894-48e6-aea5-d0538fc9eca2",
   "metadata": {
    "tags": []
   },
   "outputs": [
    {
     "data": {
      "text/html": [
       "<div>\n",
       "<style scoped>\n",
       "    .dataframe tbody tr th:only-of-type {\n",
       "        vertical-align: middle;\n",
       "    }\n",
       "\n",
       "    .dataframe tbody tr th {\n",
       "        vertical-align: top;\n",
       "    }\n",
       "\n",
       "    .dataframe thead th {\n",
       "        text-align: right;\n",
       "    }\n",
       "</style>\n",
       "<table border=\"1\" class=\"dataframe\">\n",
       "  <thead>\n",
       "    <tr style=\"text-align: right;\">\n",
       "      <th></th>\n",
       "      <th>Clicks</th>\n",
       "      <th>Conversions</th>\n",
       "    </tr>\n",
       "    <tr>\n",
       "      <th>Ad Call to action</th>\n",
       "      <th></th>\n",
       "      <th></th>\n",
       "    </tr>\n",
       "  </thead>\n",
       "  <tbody>\n",
       "    <tr>\n",
       "      <th>Book Now</th>\n",
       "      <td>15836</td>\n",
       "      <td>930.000000</td>\n",
       "    </tr>\n",
       "    <tr>\n",
       "      <th>Lean More</th>\n",
       "      <td>16344</td>\n",
       "      <td>514.714284</td>\n",
       "    </tr>\n",
       "  </tbody>\n",
       "</table>\n",
       "</div>"
      ],
      "text/plain": [
       "                   Clicks  Conversions\n",
       "Ad Call to action                     \n",
       "Book Now            15836   930.000000\n",
       "Lean More           16344   514.714284"
      ]
     },
     "execution_count": 11,
     "metadata": {},
     "output_type": "execute_result"
    }
   ],
   "source": [
    "ab_data = df.groupby('Ad Call to action')[['Clicks', 'Conversions']].sum()\n",
    "\n",
    "ab_data"
   ]
  },
  {
   "cell_type": "code",
   "execution_count": 12,
   "id": "f6da8093-a4cd-4263-9dc9-dd19b83a8248",
   "metadata": {
    "tags": []
   },
   "outputs": [
    {
     "name": "stdout",
     "output_type": "stream",
     "text": [
      "p-value = 2.0675495089035176e-32\n",
      "Rejecting the null hypothesis\n"
     ]
    }
   ],
   "source": [
    "alpha = 0.05\n",
    "\n",
    "_, p_value = proportions_ztest(\n",
    "    count = ab_data['Conversions'],\n",
    "    nobs = ab_data['Clicks'],\n",
    "    alternative = 'larger'\n",
    ")\n",
    "\n",
    "print(f'p-value = {p_value}')\n",
    "\n",
    "if p_value <= alpha:\n",
    "    print('Rejecting the null hypothesis')\n",
    "else:\n",
    "    print('We cannot reject the null hypothesis')"
   ]
  },
  {
   "cell_type": "code",
   "execution_count": 22,
   "id": "76401e53-81cf-4850-9827-ca44438dc2ed",
   "metadata": {
    "tags": []
   },
   "outputs": [
    {
     "name": "stdout",
     "output_type": "stream",
     "text": [
      "Confidence interval for conversion difference: (-3.06, -2.16)\n"
     ]
    }
   ],
   "source": [
    "n = [ab_data.loc['Book Now', 'Clicks'], ab_data.loc['Lean More', 'Clicks']]\n",
    "x_p = [ab_data.loc['Book Now', 'Conversions'] / n[0], ab_data.loc['Lean More', 'Conversions'] / n[1]]\n",
    "\n",
    "lower_bound, upper_bound = diff_proportion_conf_interval(x_p=x_p, n=n)\n",
    "\n",
    "print('Confidence interval for conversion difference: {}'.format((round(lower_bound*100, 2), round(upper_bound*100, 2))))"
   ]
  },
  {
   "cell_type": "markdown",
   "id": "75caf23f-793a-4c8f-a215-c16b5bc05159",
   "metadata": {
    "tags": []
   },
   "source": [
    "According to this indicator, the company with the Book Now call shows even better results"
   ]
  },
  {
   "cell_type": "markdown",
   "id": "80ac8219-22d4-4a75-a13f-94fd9011acf4",
   "metadata": {},
   "source": [
    "Let’s test the proportion of clicks to ad impressions"
   ]
  },
  {
   "cell_type": "code",
   "execution_count": 13,
   "id": "da4cac19-3e69-4f2e-87c4-40d8d277bd44",
   "metadata": {
    "tags": []
   },
   "outputs": [
    {
     "data": {
      "text/html": [
       "<div>\n",
       "<style scoped>\n",
       "    .dataframe tbody tr th:only-of-type {\n",
       "        vertical-align: middle;\n",
       "    }\n",
       "\n",
       "    .dataframe tbody tr th {\n",
       "        vertical-align: top;\n",
       "    }\n",
       "\n",
       "    .dataframe thead th {\n",
       "        text-align: right;\n",
       "    }\n",
       "</style>\n",
       "<table border=\"1\" class=\"dataframe\">\n",
       "  <thead>\n",
       "    <tr style=\"text-align: right;\">\n",
       "      <th></th>\n",
       "      <th>Impressions</th>\n",
       "      <th>Clicks</th>\n",
       "    </tr>\n",
       "    <tr>\n",
       "      <th>Ad Call to action</th>\n",
       "      <th></th>\n",
       "      <th></th>\n",
       "    </tr>\n",
       "  </thead>\n",
       "  <tbody>\n",
       "    <tr>\n",
       "      <th>Book Now</th>\n",
       "      <td>1217150</td>\n",
       "      <td>15836</td>\n",
       "    </tr>\n",
       "    <tr>\n",
       "      <th>Lean More</th>\n",
       "      <td>1244758</td>\n",
       "      <td>16344</td>\n",
       "    </tr>\n",
       "  </tbody>\n",
       "</table>\n",
       "</div>"
      ],
      "text/plain": [
       "                   Impressions  Clicks\n",
       "Ad Call to action                     \n",
       "Book Now               1217150   15836\n",
       "Lean More              1244758   16344"
      ]
     },
     "execution_count": 13,
     "metadata": {},
     "output_type": "execute_result"
    }
   ],
   "source": [
    "ab_data = df.groupby('Ad Call to action')[['Impressions', 'Clicks']].sum()\n",
    "\n",
    "ab_data"
   ]
  },
  {
   "cell_type": "code",
   "execution_count": 14,
   "id": "980baa91-6d0b-4af7-bb5f-1077badc5f43",
   "metadata": {
    "tags": []
   },
   "outputs": [
    {
     "name": "stdout",
     "output_type": "stream",
     "text": [
      "p-value = 0.4090020416676966\n",
      "We cannot reject the null hypothesis\n"
     ]
    }
   ],
   "source": [
    "alpha = 0.05\n",
    "\n",
    "_, p_value = proportions_ztest(\n",
    "    count = ab_data['Clicks'],\n",
    "    nobs = ab_data['Impressions']\n",
    ")\n",
    "\n",
    "print(f'p-value = {p_value}')\n",
    "\n",
    "if p_value <= alpha:\n",
    "    print('Rejecting the null hypothesis')\n",
    "else:\n",
    "    print('We cannot reject the null hypothesis')"
   ]
  },
  {
   "cell_type": "code",
   "execution_count": 15,
   "id": "e5939c3f-bb36-4923-9d72-bf4f9db9f9a2",
   "metadata": {
    "tags": []
   },
   "outputs": [
    {
     "name": "stdout",
     "output_type": "stream",
     "text": [
      "Confidence interval for conversion difference: (-0.02, 0.04)\n"
     ]
    }
   ],
   "source": [
    "n = [ab_data.loc['Book Now', 'Impressions'], ab_data.loc['Lean More', 'Impressions']]\n",
    "x_p = [ab_data.loc['Book Now', 'Clicks'] / n[0], ab_data.loc['Lean More', 'Clicks'] / n[1]]\n",
    "\n",
    "lower_bound, upper_bound = diff_proportion_conf_interval(x_p=x_p, n=n)\n",
    "\n",
    "print('Confidence interval for conversion difference: {}'.format((round(lower_bound*100, 2), round(upper_bound*100, 2))))"
   ]
  },
  {
   "cell_type": "markdown",
   "id": "1d4184b0-c7e8-4546-aaea-a63468a66fbe",
   "metadata": {},
   "source": [
    "According to this metric, there is no statistical difference between the results of advertising companies."
   ]
  },
  {
   "cell_type": "markdown",
   "id": "5162bc6a-eedf-4599-be2c-0c551e95d419",
   "metadata": {},
   "source": [
    "Finally, let’s compare the results of advertising companies in terms of cost per click and cost of conversion. First, let's compare the cost per click."
   ]
  },
  {
   "cell_type": "code",
   "execution_count": 16,
   "id": "efdb2de3-dff4-4075-9e66-47e09d9a9e2e",
   "metadata": {
    "tags": []
   },
   "outputs": [],
   "source": [
    "df['click_cost'] = df['Cost'] / df['Clicks']\n",
    "df['conversion_cost'] = df['Cost'] / df['Conversions']"
   ]
  },
  {
   "cell_type": "code",
   "execution_count": 17,
   "id": "3f293f87-425d-4dc0-86e9-f6c94e74854f",
   "metadata": {
    "tags": []
   },
   "outputs": [
    {
     "name": "stdout",
     "output_type": "stream",
     "text": [
      "p-value: 0.4\n",
      "We have no reason to reject the null hypothesis\n"
     ]
    }
   ],
   "source": [
    "alpha = 0.05 \n",
    "\n",
    "results = ttest_ind(\n",
    "    a=df.loc[df['Ad Call to action'] == 'Book Now', 'click_cost'],\n",
    "    b=df.loc[df['Ad Call to action'] == 'Lean More', 'click_cost'],\n",
    "    alternative='two-sided'\n",
    ")\n",
    "print('p-value:', round(results.pvalue, 2))\n",
    "\n",
    "if results.pvalue <= alpha:\n",
    "    print(\"Rejecting the null hypothesis\")\n",
    "else:\n",
    "    print(\"We have no reason to reject the null hypothesis\")\n"
   ]
  },
  {
   "cell_type": "code",
   "execution_count": 28,
   "id": "9799a23d-0f9b-4638-91b8-5db77f4919a3",
   "metadata": {
    "tags": []
   },
   "outputs": [
    {
     "name": "stdout",
     "output_type": "stream",
     "text": [
      "p-value: 0.75\n",
      "We have no reason to reject the null hypothesis\n"
     ]
    }
   ],
   "source": [
    "alpha = 0.05\n",
    "\n",
    "results = ttest_ind(\n",
    "    a=df.loc[df['Ad Call to action'] == 'Book Now', 'conversion_cost'],\n",
    "    b=df.loc[df['Ad Call to action'] == 'Lean More', 'conversion_cost'],\n",
    "    alternative='two-sided'\n",
    ")\n",
    "print('p-value:', round(results.pvalue, 2))\n",
    "\n",
    "\n",
    "if results.pvalue <= alpha:\n",
    "    print(\"Rejecting the null hypothesis\")\n",
    "else:\n",
    "    print(\"We have no reason to reject the null hypothesis\")"
   ]
  },
  {
   "cell_type": "markdown",
   "id": "04901773-48dd-4e20-be93-bc38150a3e96",
   "metadata": {},
   "source": [
    "Thus, in terms of cost per click and cost of conversion metrics, there is no statistical difference between the indicators of the two companies."
   ]
  }
 ],
 "metadata": {
  "kernelspec": {
   "display_name": "Python 3 (ipykernel)",
   "language": "python",
   "name": "python3"
  },
  "language_info": {
   "codemirror_mode": {
    "name": "ipython",
    "version": 3
   },
   "file_extension": ".py",
   "mimetype": "text/x-python",
   "name": "python",
   "nbconvert_exporter": "python",
   "pygments_lexer": "ipython3",
   "version": "3.8.16"
  }
 },
 "nbformat": 4,
 "nbformat_minor": 5
}
